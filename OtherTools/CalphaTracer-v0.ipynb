{
 "cells": [
  {
   "cell_type": "markdown",
   "id": "94838824",
   "metadata": {},
   "source": [
    "# CalphaTracer v0\n",
    "Last modified: 6/08/23, DL"
   ]
  },
  {
   "cell_type": "markdown",
   "id": "7a0c7e34",
   "metadata": {},
   "source": [
    "Plots Calpha positions of selected chains of a list of .pdb or .cif files with choice of colors. Saves output as svg files with a circular mask for easy rotation."
   ]
  },
  {
   "cell_type": "code",
   "execution_count": 1,
   "id": "e8652a75",
   "metadata": {},
   "outputs": [],
   "source": [
    "# Import relevant packages\n",
    "import os\n",
    "from Bio.PDB import PDBParser, MMCIFParser\n",
    "import matplotlib.pyplot as plt\n",
    "import numpy as np"
   ]
  },
  {
   "cell_type": "code",
   "execution_count": 7,
   "id": "4df83cc6",
   "metadata": {},
   "outputs": [],
   "source": [
    "# Helper functions\n",
    "def list_structure_files(directory):\n",
    "    files = []\n",
    "    for filename in os.listdir(directory):\n",
    "        if (\".pdb\" in filename) or (\".cif\" in filename):\n",
    "            file_path = os.path.join(directory, filename)\n",
    "            if os.path.isfile(file_path):\n",
    "                files.append(file_path)\n",
    "    return files\n",
    "\n",
    "def generate_calpha_images(files: list, chains: list, colors: list, output_path: str , box_radius: float = 100.0):\n",
    "    '''\n",
    "    files = list of file names e.g. ['file1.pdb', 'file2.cif']\n",
    "    chains = list of lists containing desired chains per file e.g. [['A', 'C'], ['B']]\n",
    "    colors = list of lists containing desired colors for selected chains e.g. [['green', 'blue'],['#2ca022']]\n",
    "    output_path = string containing output path\n",
    "    box_radius = float of radius of bounding box and white circular patch, in cartesian coords\n",
    "    '''\n",
    "    for i, file in enumerate(files):\n",
    "        # Read in file\n",
    "        _, file_extension = os.path.splitext(file)\n",
    "        if file_extension == \".pdb\":\n",
    "            parser = PDBParser()\n",
    "            structure = parser.get_structure(os.path.basename(file), file)\n",
    "        elif file_extension == \".cif\":\n",
    "            parser = MMCIFParser()\n",
    "            structure = parser.get_structure(os.path.basename(file), file)\n",
    "        else:\n",
    "            raiseValueError(f\"Unsupported file format: {file_extension} for {file}\")\n",
    "\n",
    "        # Set up variables and plot, check conditions\n",
    "        fig, ax = plt.subplots()\n",
    "        ax.set_aspect(\"equal\")\n",
    "        x_s = []\n",
    "        y_s = []\n",
    "        if len(colors[i]) != len(chains[i]):\n",
    "            raiseValueError(f\"Not enough colors for {file} provided\")\n",
    "        \n",
    "        # Iterate through chains and plot Calphas\n",
    "        for j, chain_id in enumerate(chains[i]):\n",
    "            chain_id = chain_id.upper()\n",
    "            if chain_id not in structure[0]:\n",
    "                print(f\"Chain {chain_id} not found in {file}\")\n",
    "                continue\n",
    "            chain = structure[0][chain_id]\n",
    "            residues = list(chain.get_residues())\n",
    "            x_coords = [residue[\"CA\"].get_coord()[0] for residue in residues]\n",
    "            y_coords = [residue[\"CA\"].get_coord()[1] for residue in residues]\n",
    "            x_s += x_coords\n",
    "            y_s += y_coords\n",
    "            ax.plot(x_coords, y_coords, '-', color=colors[i][j])\n",
    "\n",
    "        # Recenter plot and use proper box size\n",
    "        xmean = np.mean(x_s)\n",
    "        ymean = np.mean(y_s)\n",
    "        ax.set_xlim(xmean - box_radius, xmean + box_radius)\n",
    "        ax.set_ylim(ymean - box_radius, ymean + box_radius)\n",
    "        ax.set_clip_path(plt.Circle((xmean, ymean), box_radius, color='white'))\n",
    "        ax.axis('off')\n",
    "        \n",
    "        # Save and output figure\n",
    "        output_filename = output_path + f\"_chains_{'_'.join(chains[i])}_calphaplot.svg\"\n",
    "        print(f\"File saved as {output_filename}\")\n",
    "        plt.savefig(output_filename, format='svg', bbox_inches='tight', transparent=True)\n",
    "        plt.show()"
   ]
  },
  {
   "cell_type": "code",
   "execution_count": null,
   "id": "c6d14a5b",
   "metadata": {},
   "outputs": [],
   "source": [
    "\n",
    "def generate_calpha_images(files: list, chains: list, colors: list, output_path: str , box_radius: float = 100.0):\n",
    "    '''\n",
    "    files = list of file names e.g. ['file1.pdb', 'file2.cif']\n",
    "    chains = list of lists containing desired chains per file e.g. [['A', 'C'], ['B']]\n",
    "    colors = list of lists containing desired colors for selected chains e.g. [['green', 'blue'],['#2ca022']]\n",
    "    output_path = string containing output path\n",
    "    box_radius = float of radius of bounding box and white circular patch, in cartesian coords\n",
    "    '''\n",
    "    for i, file in enumerate(files):\n",
    "        # Read in file\n",
    "        _, file_extension = os.path.splitext(file)\n",
    "        if file_extension == \".pdb\":\n",
    "            parser = PDBParser()\n",
    "            structure = parser.get_structure(os.path.basename(file), file)\n",
    "        elif file_extension == \".cif\":\n",
    "            parser = MMCIFParser()\n",
    "            structure = parser.get_structure(os.path.basename(file), file)\n",
    "        else:\n",
    "            raiseValueError(f\"Unsupported file format: {file_extension} for {file}\")\n",
    "\n",
    "        # Set up variables and plot, check conditions\n",
    "        fig, ax = plt.subplots()\n",
    "        ax.set_aspect(\"equal\")\n",
    "        x_s = []\n",
    "        y_s = []\n",
    "        if len(colors[i]) != len(chains[i]):\n",
    "            raiseValueError(f\"Not enough colors for {file} provided\")\n",
    "        \n",
    "        # Iterate through chains and plot Calphas\n",
    "        for j, chain_id in enumerate(chains[i]):\n",
    "            chain_id = chain_id.upper()\n",
    "            if chain_id not in structure[0]:\n",
    "                print(f\"Chain {chain_id} not found in {file}\")\n",
    "                continue\n",
    "            chain = structure[0][chain_id]\n",
    "            residues = list(chain.get_residues())\n",
    "            x_coords = [residue[\"CA\"].get_coord()[0] for residue in residues]\n",
    "            y_coords = [residue[\"CA\"].get_coord()[1] for residue in residues]\n",
    "            x_s += x_coords\n",
    "            y_s += y_coords\n",
    "            ax.plot(x_coords, y_coords, '-', color=colors[i][j])\n",
    "\n",
    "        # Recenter plot and use proper box size\n",
    "        xmean = np.mean(x_s)\n",
    "        ymean = np.mean(y_s)\n",
    "        ax.set_xlim(xmean - box_radius, xmean + box_radius)\n",
    "        ax.set_ylim(ymean - box_radius, ymean + box_radius)\n",
    "        ax.set_clip_path(plt.Circle((xmean, ymean), box_radius, color='white'))\n",
    "        ax.axis('off')\n",
    "        \n",
    "        # Save and output figure\n",
    "        output_filename = output_path + f\"_chains_{'_'.join(chains[i])}_calphaplot.svg\"\n",
    "        print(f\"File saved as {output_filename}\")\n",
    "        plt.savefig(output_filename, format='svg', bbox_inches='tight', transparent=True)\n",
    "        plt.show()"
   ]
  },
  {
   "cell_type": "code",
   "execution_count": null,
   "id": "d272c0d4",
   "metadata": {},
   "outputs": [],
   "source": [
    "def plot_xy_crosssections(postprocess_mrc_files: list = None, postprocess_star_files: list = None, filepath: str = None, savefig: bool = True,\n",
    "                          color_palette_list: list = None, type_names: list = None,  boxsize = 250, fontsize = 20, figsize_x = 30, images_per_row: int = 5,\n",
    "                          panel_label: bool = False, panel_label_letter: str = \"d\",  panel_label_fontsize: int = 25,\n",
    "                          panel_x = 0.01, panel_y = 0.99, color_lw = 8):\n",
    "    n = len(postprocess_mrc_files)\n",
    "    if panel_label:\n",
    "        fig, axes = plt.subplots(int(np.ceil(n/images_per_row)), images_per_row, figsize = (figsize_x, int(np.ceil(n/images_per_row)+0.1)*figsize_x/images_per_row))\n",
    "    else:\n",
    "        fig, axes = plt.subplots(int(np.ceil(n/images_per_row)), images_per_row, figsize = (figsize_x, int(np.ceil(n/images_per_row))*figsize_x/images_per_row))\n",
    "    \n",
    "    axes = axes.flatten()\n",
    "    for pp_job, ax in enumerate(axes):\n",
    "        if pp_job < n:\n",
    "            # Read in postprocessed map\n",
    "            current_map_path = postprocess_mrc_files[pp_job]\n",
    "            mrcdata, voxelsize = read_mrc_file(current_map_path)\n",
    "        \n",
    "            # Pull out central slice with either correct boxsize or as big as possible\n",
    "            num_slices = int(np.round(4.75/voxelsize['x'])) # number of slices to combine for approx one rung\n",
    "            if mrcdata.shape[0]*voxelsize['x']>= boxsize:\n",
    "                edge = int(round(boxsize/voxelsize['x']/2))\n",
    "                middle = int(np.ceil(mrcdata.shape[0]/2))\n",
    "                sliced_mrcdata = mrcdata[middle-int(np.ceil(num_slices/2)):middle+int(np.floor(num_slices/2)), middle-edge:middle+edge, middle-edge:middle+edge]\n",
    "            else:\n",
    "                sliced_mrcdata = mrcdata[int(np.ceil(mrcdata.shape[0]/2)-np.ceil(num_slices/2)):int(np.ceil(mrcdata.shape[0]/2)+np.floor(num_slices/2)), :, :]\n",
    "            central_slice = np.sum(sliced_mrcdata, axis = 0)\n",
    "\n",
    "            # Plot central slice with a circular mask\n",
    "            im = ax.imshow(central_slice, cmap = 'gray')\n",
    "            mask = np.zeros_like(central_slice)\n",
    "            mask_size = mask.shape[0]//2\n",
    "            patch = patches.Circle((mask_size, mask_size), radius = mask_size, transform = ax.transData)\n",
    "            im.set_clip_path(patch)\n",
    "            if color_palette_list != None:\n",
    "                patch2 = patches.Circle((mask_size, mask_size), radius = mask_size, fill = False, lw = color_lw, ec = color_palette_list[pp_job], transform = ax.transData)\n",
    "                ax.add_patch(patch2)\n",
    "\n",
    "            # Add text for the name of the filament and the resolution if relevant\n",
    "            if type_names != None and color_palette_list != None:\n",
    "                ax.text(-5, 15, type_names[pp_job], fontfamily = 'sans-serif', fontsize = fontsize, backgroundcolor = color_palette_list[pp_job], transform = ax.transData)# , fontweight = 'bold'\n",
    "            elif type_names !=None:\n",
    "                ax.text(-5, 15, type_names[pp_job], fontfamily = 'sans-serif', fontsize = fontsize, transform = ax.transData)    \n",
    "            if postprocess_star_files != None:\n",
    "                postprocess_star = starfile.read(postprocess_star_files[pp_job])\n",
    "                mapresolution = np.round(postprocess_star['general']['rlnFinalResolution'][0], 2)\n",
    "                ax.text(-5, 40, str(mapresolution)+' Å', fontfamily = 'sans-serif', fontsize = fontsize, transform = ax.transData)\n",
    "            ax.axis('off')\n",
    "        else:\n",
    "            ax.axis('off')\n",
    "            \n",
    "    if panel_label:\n",
    "        font = {'fontname': 'Arial', 'fontsize': panel_label_fontsize, 'fontweight': 'bold'}\n",
    "        fig.suptitle(panel_label_letter, x = panel_x, y = panel_y, fontname = 'Arial', fontsize = panel_label_fontsize, fontweight = 'bold')\n",
    "    \n",
    "    # Show and save figures\n",
    "    plt.tight_layout()\n",
    "    plt.show()\n",
    "    if savefig:\n",
    "        if filepath != None:\n",
    "            fig.savefig(f\"{filepath}_map_xys.svg\")\n",
    "            print(\"Figure saved as \"+f\"{filepath}_map_xys.svg\")\n",
    "        else:\n",
    "            fig.savefig(\"map_xys.svg\")\n",
    "            print(\"Figure saved as map_xys.svg\")"
   ]
  },
  {
   "cell_type": "code",
   "execution_count": null,
   "id": "fed67ba1",
   "metadata": {},
   "outputs": [],
   "source": [
    "            # Plot central slice with a circular mask\n",
    "            im = ax.imshow(central_slice, cmap = 'gray')\n",
    "            mask = np.zeros_like(central_slice)\n",
    "            mask_size = mask.shape[0]//2\n",
    "            patch = patches.Circle((mask_size, mask_size), radius = mask_size, transform = ax.transData)\n",
    "            im.set_clip_path(patch)\n",
    "            if color_palette_list != None:\n",
    "                patch2 = patches.Circle((mask_size, mask_size), radius = mask_size, fill = False, lw = color_lw, ec = color_palette_list[pp_job], transform = ax.transData)\n",
    "                ax.add_patch(patch2)"
   ]
  },
  {
   "cell_type": "markdown",
   "id": "4602e606",
   "metadata": {},
   "source": [
    "# Main"
   ]
  },
  {
   "cell_type": "code",
   "execution_count": 3,
   "id": "c9f4da4c",
   "metadata": {},
   "outputs": [
    {
     "data": {
      "text/plain": [
       "['../ExampleData/PHF.cif', '../ExampleData/Intermediate1_refined.pdb']"
      ]
     },
     "execution_count": 3,
     "metadata": {},
     "output_type": "execute_result"
    }
   ],
   "source": [
    "list_structure_files(\"../ExampleData\")"
   ]
  },
  {
   "cell_type": "code",
   "execution_count": 8,
   "id": "f426c9e5",
   "metadata": {},
   "outputs": [
    {
     "name": "stdout",
     "output_type": "stream",
     "text": [
      "File saved as /Users/dli/Documents/FIA_paper_figures/test.svg_chains_C_D_calphaplot.svg\n"
     ]
    },
    {
     "data": {
      "image/png": "[encoded data removed]",
      "text/plain": [
       "<Figure size 640x480 with 1 Axes>"
      ]
     },
     "metadata": {},
     "output_type": "display_data"
    },
    {
     "name": "stdout",
     "output_type": "stream",
     "text": [
      "File saved as /Users/dli/Documents/FIA_paper_figures/test.svg_chains_E_L_calphaplot.svg\n"
     ]
    },
    {
     "data": {
      "image/png": "[encoded data removed]",
      "text/plain": [
       "<Figure size 640x480 with 1 Axes>"
      ]
     },
     "metadata": {},
     "output_type": "display_data"
    }
   ],
   "source": [
    "Files = list_structure_files(\"../ExampleData\")\n",
    "Chains = [[\"C\", \"D\"], [\"E\", \"L\"]]\n",
    "Colors = [['purple','purple'],[\"#2ca02c\" , \"#2ca02c\"]]\n",
    "Output_path = \"/Users/dli/Documents/FIA_paper_figures/test.svg\"\n",
    "generate_calpha_images(Files, Chains, Colors, Output_path)"
   ]
  },
  {
   "cell_type": "code",
   "execution_count": null,
   "id": "ecad48ad",
   "metadata": {},
   "outputs": [],
   "source": []
  }
 ],
 "metadata": {
  "kernelspec": {
   "display_name": "Python 3 (ipykernel)",
   "language": "python",
   "name": "python3"
  },
  "language_info": {
   "codemirror_mode": {
    "name": "ipython",
    "version": 3
   },
   "file_extension": ".py",
   "mimetype": "text/x-python",
   "name": "python",
   "nbconvert_exporter": "python",
   "pygments_lexer": "ipython3",
   "version": "3.10.8"
  }
 },
 "nbformat": 4,
 "nbformat_minor": 5
}
